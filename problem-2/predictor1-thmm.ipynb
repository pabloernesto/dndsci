{
 "cells": [
  {
   "cell_type": "code",
   "execution_count": 1,
   "id": "696898a7-8d8b-43be-85fe-76fa8de6d5ee",
   "metadata": {},
   "outputs": [],
   "source": [
    "import pandas as pd\n",
    "import numpy as np\n",
    "from sklearn.linear_model import LinearRegression\n",
    "from sklearn.metrics import r2_score\n",
    "data = pd.read_csv(\"sacrifices-clean.csv\")"
   ]
  },
  {
   "cell_type": "code",
   "execution_count": 2,
   "id": "67996949-7681-4d8f-90cc-09287474319d",
   "metadata": {},
   "outputs": [],
   "source": [
    "X = data.loc[:, \"thmm\"].values.reshape(-1, 1)\n",
    "Y = data.loc[:, \"mana\"].values.reshape(-1, 1)\n",
    "\n",
    "linear_regressor = LinearRegression()\n",
    "linear_regressor.fit(X, Y)\n",
    "Y_pred = linear_regressor.predict(X)"
   ]
  },
  {
   "cell_type": "code",
   "execution_count": 3,
   "id": "db86c2ea-93b9-4670-b95a-19e144c9c2fa",
   "metadata": {},
   "outputs": [
    {
     "data": {
      "text/plain": [
       "0.10180320108608698"
      ]
     },
     "execution_count": 3,
     "metadata": {},
     "output_type": "execute_result"
    }
   ],
   "source": [
    "r2_score(Y, Y_pred)"
   ]
  },
  {
   "cell_type": "code",
   "execution_count": 4,
   "id": "af4dc7c3-0018-4351-8f19-4c02513a2fa6",
   "metadata": {},
   "outputs": [
    {
     "name": "stdout",
     "output_type": "stream",
     "text": [
      "[[0.24802894]] [13.57992764]\n"
     ]
    }
   ],
   "source": [
    "print(linear_regressor.coef_, linear_regressor.intercept_)"
   ]
  },
  {
   "cell_type": "code",
   "execution_count": 5,
   "id": "47faad59-f8d1-461f-9a3b-f0f33246265c",
   "metadata": {},
   "outputs": [
    {
     "name": "stdout",
     "output_type": "stream",
     "text": [
      "15.316130239777014\n",
      "20.772766997383382\n",
      "32.67815628670637\n",
      "22.260940658548755\n",
      "17.548390731525075\n",
      "25.98137481146219\n",
      "16.556274957414825\n",
      "23.501085376186566\n",
      "23.99714326324169\n",
      "14.82007235272189\n",
      "25.485316924407066\n",
      "17.05233284446995\n"
     ]
    }
   ],
   "source": [
    "x = linear_regressor.predict(np.array([7, 29, 77, 35, 16, 50, 12, 40, 42, 5, 48, 14]).reshape(-1,1))\n",
    "for [i] in x: print(i)"
   ]
  },
  {
   "cell_type": "code",
   "execution_count": null,
   "id": "cab9516a-3bb7-4f28-973c-65569c131814",
   "metadata": {},
   "outputs": [],
   "source": []
  }
 ],
 "metadata": {
  "kernelspec": {
   "display_name": "Python 3 (ipykernel)",
   "language": "python",
   "name": "python3"
  },
  "language_info": {
   "codemirror_mode": {
    "name": "ipython",
    "version": 3
   },
   "file_extension": ".py",
   "mimetype": "text/x-python",
   "name": "python",
   "nbconvert_exporter": "python",
   "pygments_lexer": "ipython3",
   "version": "3.9.9"
  }
 },
 "nbformat": 4,
 "nbformat_minor": 5
}
